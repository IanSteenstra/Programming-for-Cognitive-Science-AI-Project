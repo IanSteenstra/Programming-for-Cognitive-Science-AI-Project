{
 "cells": [
  {
   "cell_type": "markdown",
   "metadata": {},
   "source": [
    "# Sentiment Text Classification Through GoogleNews Word2Vec & CNN"
   ]
  },
  {
   "cell_type": "markdown",
   "metadata": {},
   "source": [
    "Ian Steenstra, Rensselaer Polytechnic Institute, Dec 14th, 2019 "
   ]
  },
  {
   "cell_type": "markdown",
   "metadata": {},
   "source": [
    "## Introduction "
   ]
  },
  {
   "cell_type": "markdown",
   "metadata": {},
   "source": [
    "Sentiment classification in text is a growing field of research because of its potential use in today's vast amount of text-based data online. The reason for building this model is to create a baseline model for sentiment classification in a therapeutic instant messenger. It is hard to find enough data to train on conversations because of privacy reasons, but I was able to find a trustworthy dataset (ISEAR) where they asked participants from different cultural backgrounds to classify an emotion to a phrase [4]. Through the use of a multi-layered Convolutional Neural Network (CNN), my model is relevant to the overall field of Deep Learning. The hard problem with sentiment analysis is that it is not always consistent between people. You can probably remember many times when you misunderstood the emotional backing of a statement. I hope my model provides a step in the right direction of having a device to help people understand each other better in a time of mostly text-based communication. "
   ]
  },
  {
   "cell_type": "markdown",
   "metadata": {},
   "source": [
    "## Background"
   ]
  },
  {
   "cell_type": "markdown",
   "metadata": {},
   "source": [
    "Most of the models today all use a form of a CNN to retrieve the parameters that will be able to classify sentiment in text. However, there are different ways of going about it and with added data manipulation. One technique is through a very deep network with individual characters of text as the input, as much as 29 convolutional layers; which, results in very low classification error, but lower accuracy scores [2]. Others use a CNN off of the individual words themselves and train on the sentiment classification. I, however, used a different approach that has been widely found to be one of the best. My model first uses word embeddings to convert the phrases into vectors of features at the word level. After, they are fed into a CNN where I train on the ISEAR dataset. I use a very large WordNet model that allows me to extract features for the vector representation of the words. The WordNet I use is from Google News and positions words similar to each other closer together [3]. This allows a model to easily find importance by using the distance of words to each other. The features for each word provides a powerful tool to learn from using a CNN. "
   ]
  },
  {
   "cell_type": "markdown",
   "metadata": {},
   "source": [
    "## Data"
   ]
  },
  {
   "cell_type": "markdown",
   "metadata": {},
   "source": [
    "The data that I train my model on is the ISEAR dataset which has 7515 pairs of datapoints each containing a sentiment and phrase. There are 7 different sentiments: joy, fear, anger, sadness, disgust, shame and guilt. I make each a key in a dictionary to help with one-hot-encoding so I can easily train multiple categories on a CNN. Before I train on the data, I first need to convert each statement into a vector of features/parameters. I do this by using a word to vector model. I use the genism library to extract a model that I can use provided by the GoogleNews Word2Vec model; which it has 300-dimensional vectors for 3 million words and phrases [3]. This is a powerful tool in extracting features to learn from because it captures many linguistic regularities [3]. Below shows two examples of the distance of a word to others in space through a simple visualization. Before I can even use this model on the sentences, I need to do some data preprocessing. In this step, I need to turn each phrase into tokens; which are just the important parts of the phrase. This means I need to remove all the punctuation, extra spaces, and stop words. Stop words are words that appear most often in English and are found to be not that important linguistically. Also, using lemmatization is helpful as well. An example of lemmatization is using the word, play, instead of playing, played, and plays. It converts each word into its smallest root. The tokens for a phra then convert into a 300-dimensional vector through the use of the Word2Vec model. This is done by finding the 300-dimensional vector for each token and averaging each dimension between all the tokens. Averaging is needed to make sure the input space is the same for every phrase because not every phrase has the same length. "
   ]
  },
  {
   "cell_type": "code",
   "execution_count": 1,
   "metadata": {},
   "outputs": [
    {
     "name": "stderr",
     "output_type": "stream",
     "text": [
      "C:\\Users\\steeni\\Anaconda3\\envs\\tf2\\lib\\site-packages\\tensorflow\\python\\framework\\dtypes.py:523: FutureWarning: Passing (type, 1) or '1type' as a synonym of type is deprecated; in a future version of numpy, it will be understood as (type, (1,)) / '(1,)type'.\n",
      "  _np_qint8 = np.dtype([(\"qint8\", np.int8, 1)])\n",
      "C:\\Users\\steeni\\Anaconda3\\envs\\tf2\\lib\\site-packages\\tensorflow\\python\\framework\\dtypes.py:524: FutureWarning: Passing (type, 1) or '1type' as a synonym of type is deprecated; in a future version of numpy, it will be understood as (type, (1,)) / '(1,)type'.\n",
      "  _np_quint8 = np.dtype([(\"quint8\", np.uint8, 1)])\n",
      "C:\\Users\\steeni\\Anaconda3\\envs\\tf2\\lib\\site-packages\\tensorflow\\python\\framework\\dtypes.py:525: FutureWarning: Passing (type, 1) or '1type' as a synonym of type is deprecated; in a future version of numpy, it will be understood as (type, (1,)) / '(1,)type'.\n",
      "  _np_qint16 = np.dtype([(\"qint16\", np.int16, 1)])\n",
      "C:\\Users\\steeni\\Anaconda3\\envs\\tf2\\lib\\site-packages\\tensorflow\\python\\framework\\dtypes.py:526: FutureWarning: Passing (type, 1) or '1type' as a synonym of type is deprecated; in a future version of numpy, it will be understood as (type, (1,)) / '(1,)type'.\n",
      "  _np_quint16 = np.dtype([(\"quint16\", np.uint16, 1)])\n",
      "C:\\Users\\steeni\\Anaconda3\\envs\\tf2\\lib\\site-packages\\tensorflow\\python\\framework\\dtypes.py:527: FutureWarning: Passing (type, 1) or '1type' as a synonym of type is deprecated; in a future version of numpy, it will be understood as (type, (1,)) / '(1,)type'.\n",
      "  _np_qint32 = np.dtype([(\"qint32\", np.int32, 1)])\n",
      "C:\\Users\\steeni\\Anaconda3\\envs\\tf2\\lib\\site-packages\\tensorflow\\python\\framework\\dtypes.py:532: FutureWarning: Passing (type, 1) or '1type' as a synonym of type is deprecated; in a future version of numpy, it will be understood as (type, (1,)) / '(1,)type'.\n",
      "  np_resource = np.dtype([(\"resource\", np.ubyte, 1)])\n",
      "C:\\Users\\steeni\\Anaconda3\\envs\\tf2\\lib\\site-packages\\tensorboard\\compat\\tensorflow_stub\\dtypes.py:541: FutureWarning: Passing (type, 1) or '1type' as a synonym of type is deprecated; in a future version of numpy, it will be understood as (type, (1,)) / '(1,)type'.\n",
      "  _np_qint8 = np.dtype([(\"qint8\", np.int8, 1)])\n",
      "C:\\Users\\steeni\\Anaconda3\\envs\\tf2\\lib\\site-packages\\tensorboard\\compat\\tensorflow_stub\\dtypes.py:542: FutureWarning: Passing (type, 1) or '1type' as a synonym of type is deprecated; in a future version of numpy, it will be understood as (type, (1,)) / '(1,)type'.\n",
      "  _np_quint8 = np.dtype([(\"quint8\", np.uint8, 1)])\n",
      "C:\\Users\\steeni\\Anaconda3\\envs\\tf2\\lib\\site-packages\\tensorboard\\compat\\tensorflow_stub\\dtypes.py:543: FutureWarning: Passing (type, 1) or '1type' as a synonym of type is deprecated; in a future version of numpy, it will be understood as (type, (1,)) / '(1,)type'.\n",
      "  _np_qint16 = np.dtype([(\"qint16\", np.int16, 1)])\n",
      "C:\\Users\\steeni\\Anaconda3\\envs\\tf2\\lib\\site-packages\\tensorboard\\compat\\tensorflow_stub\\dtypes.py:544: FutureWarning: Passing (type, 1) or '1type' as a synonym of type is deprecated; in a future version of numpy, it will be understood as (type, (1,)) / '(1,)type'.\n",
      "  _np_quint16 = np.dtype([(\"quint16\", np.uint16, 1)])\n",
      "C:\\Users\\steeni\\Anaconda3\\envs\\tf2\\lib\\site-packages\\tensorboard\\compat\\tensorflow_stub\\dtypes.py:545: FutureWarning: Passing (type, 1) or '1type' as a synonym of type is deprecated; in a future version of numpy, it will be understood as (type, (1,)) / '(1,)type'.\n",
      "  _np_qint32 = np.dtype([(\"qint32\", np.int32, 1)])\n",
      "C:\\Users\\steeni\\Anaconda3\\envs\\tf2\\lib\\site-packages\\tensorboard\\compat\\tensorflow_stub\\dtypes.py:550: FutureWarning: Passing (type, 1) or '1type' as a synonym of type is deprecated; in a future version of numpy, it will be understood as (type, (1,)) / '(1,)type'.\n",
      "  np_resource = np.dtype([(\"resource\", np.ubyte, 1)])\n",
      "[nltk_data] Downloading package wordnet to\n",
      "[nltk_data]     C:\\Users\\steeni\\AppData\\Roaming\\nltk_data...\n",
      "[nltk_data]   Package wordnet is already up-to-date!\n"
     ]
    },
    {
     "data": {
      "text/plain": [
       "True"
      ]
     },
     "execution_count": 1,
     "metadata": {},
     "output_type": "execute_result"
    }
   ],
   "source": [
    "from tensorflow.keras import layers\n",
    "from tensorflow.keras.models import Sequential\n",
    "from tensorflow.keras.layers import Dense\n",
    "from tensorflow.keras.losses import binary_crossentropy\n",
    "from tensorflow.keras.optimizers import Adam\n",
    "from gensim.models import KeyedVectors, Word2Vec\n",
    "from gensim.test.utils import common_texts, get_tmpfile\n",
    "import pandas as pd\n",
    "import numpy as np\n",
    "import re\n",
    "import nltk\n",
    "from nltk.tokenize import word_tokenize\n",
    "from nltk.corpus import stopwords \n",
    "from nltk.stem import WordNetLemmatizer\n",
    "import string\n",
    "from sklearn.model_selection import train_test_split\n",
    "import matplotlib.pyplot as plt\n",
    "from sklearn.manifold import TSNE\n",
    "\n",
    "nltk.download('wordnet')"
   ]
  },
  {
   "cell_type": "code",
   "execution_count": 2,
   "metadata": {},
   "outputs": [
    {
     "data": {
      "text/plain": [
       "Sentiment    0\n",
       "Sentence     0\n",
       "dtype: int64"
      ]
     },
     "execution_count": 2,
     "metadata": {},
     "output_type": "execute_result"
    }
   ],
   "source": [
    "dataset = pd.read_csv('ISEAR.csv').iloc[:, :-1]\n",
    "dataset.isnull().sum()"
   ]
  },
  {
   "cell_type": "code",
   "execution_count": 3,
   "metadata": {},
   "outputs": [
    {
     "data": {
      "text/html": [
       "<div>\n",
       "<style scoped>\n",
       "    .dataframe tbody tr th:only-of-type {\n",
       "        vertical-align: middle;\n",
       "    }\n",
       "\n",
       "    .dataframe tbody tr th {\n",
       "        vertical-align: top;\n",
       "    }\n",
       "\n",
       "    .dataframe thead th {\n",
       "        text-align: right;\n",
       "    }\n",
       "</style>\n",
       "<table border=\"1\" class=\"dataframe\">\n",
       "  <thead>\n",
       "    <tr style=\"text-align: right;\">\n",
       "      <th></th>\n",
       "      <th>Sentiment</th>\n",
       "      <th>Sentence</th>\n",
       "    </tr>\n",
       "  </thead>\n",
       "  <tbody>\n",
       "    <tr>\n",
       "      <th>0</th>\n",
       "      <td>joy</td>\n",
       "      <td>On days when I feel close to my partner and ot...</td>\n",
       "    </tr>\n",
       "    <tr>\n",
       "      <th>1</th>\n",
       "      <td>fear</td>\n",
       "      <td>Every time I imagine that someone I love or I ...</td>\n",
       "    </tr>\n",
       "    <tr>\n",
       "      <th>2</th>\n",
       "      <td>anger</td>\n",
       "      <td>When I had been obviously unjustly treated and...</td>\n",
       "    </tr>\n",
       "    <tr>\n",
       "      <th>3</th>\n",
       "      <td>sadness</td>\n",
       "      <td>When I think about the short time that we live...</td>\n",
       "    </tr>\n",
       "    <tr>\n",
       "      <th>4</th>\n",
       "      <td>disgust</td>\n",
       "      <td>At a gathering I found myself involuntarily si...</td>\n",
       "    </tr>\n",
       "  </tbody>\n",
       "</table>\n",
       "</div>"
      ],
      "text/plain": [
       "  Sentiment                                           Sentence\n",
       "0       joy  On days when I feel close to my partner and ot...\n",
       "1      fear  Every time I imagine that someone I love or I ...\n",
       "2     anger  When I had been obviously unjustly treated and...\n",
       "3   sadness  When I think about the short time that we live...\n",
       "4   disgust  At a gathering I found myself involuntarily si..."
      ]
     },
     "execution_count": 3,
     "metadata": {},
     "output_type": "execute_result"
    }
   ],
   "source": [
    "dataset.head()"
   ]
  },
  {
   "cell_type": "code",
   "execution_count": 4,
   "metadata": {},
   "outputs": [],
   "source": [
    "emotion_labels = {'joy': 0, 'fear': 1, 'anger': 2, 'sadness': 3, 'disgust': 4, 'shame': 5, 'guilt': 6}"
   ]
  },
  {
   "cell_type": "markdown",
   "metadata": {},
   "source": [
    "#### Below extracts the GoogleNews word2vec model which is stored as a binary file. "
   ]
  },
  {
   "cell_type": "code",
   "execution_count": 5,
   "metadata": {},
   "outputs": [],
   "source": [
    "emb_model = KeyedVectors.load_word2vec_format(\"GoogleNews-vectors-negative300.bin\", binary=True)"
   ]
  },
  {
   "cell_type": "markdown",
   "metadata": {},
   "source": [
    "#### Below is the function that graphs some of the closest words to that of the inputted word. "
   ]
  },
  {
   "cell_type": "code",
   "execution_count": 6,
   "metadata": {},
   "outputs": [],
   "source": [
    "def display_closestwords_tsnescatterplot(model, word):\n",
    "    \n",
    "    arr = np.empty((0,300), dtype='f')\n",
    "    word_labels = [word]\n",
    "\n",
    "    close_words = model.similar_by_word(word)\n",
    "    \n",
    "    arr = np.append(arr, np.array([model[word]]), axis=0)\n",
    "    for wrd_score in close_words:\n",
    "        wrd_vector = model[wrd_score[0]]\n",
    "        word_labels.append(wrd_score[0])\n",
    "        arr = np.append(arr, np.array([wrd_vector]), axis=0)\n",
    "        \n",
    "    tsne = TSNE(n_components=2, random_state=0)\n",
    "    np.set_printoptions(suppress=True)\n",
    "    Y = tsne.fit_transform(arr)\n",
    "\n",
    "    x_coords = Y[:, 0]\n",
    "    y_coords = Y[:, 1]\n",
    "    plt.scatter(x_coords, y_coords)\n",
    "\n",
    "    for label, x, y in zip(word_labels, x_coords, y_coords):\n",
    "        plt.annotate(label, xy=(x, y), xytext=(0, 0), textcoords='offset points')\n",
    "    plt.xlim(x_coords.min()+0.00005, x_coords.max()+0.00005)\n",
    "    plt.ylim(y_coords.min()+0.00005, y_coords.max()+0.00005)\n",
    "    plt.show()"
   ]
  },
  {
   "cell_type": "markdown",
   "metadata": {},
   "source": [
    "#### Below displays the words and phrases that are close in distance to the word promotion. "
   ]
  },
  {
   "cell_type": "code",
   "execution_count": 7,
   "metadata": {},
   "outputs": [
    {
     "data": {
      "image/png": "[encoded data removed]",
      "text/plain": [
       "<Figure size 432x288 with 1 Axes>"
      ]
     },
     "metadata": {
      "needs_background": "light"
     },
     "output_type": "display_data"
    }
   ],
   "source": [
    "display_closestwords_tsnescatterplot(emb_model, 'promotion')"
   ]
  },
  {
   "cell_type": "raw",
   "metadata": {},
   "source": [
    "#### Below displays the words and phrases that are close in distance to the word sad. "
   ]
  },
  {
   "cell_type": "code",
   "execution_count": 8,
   "metadata": {},
   "outputs": [
    {
     "data": {
      "image/png": "[encoded data removed]",
      "text/plain": [
       "<Figure size 432x288 with 1 Axes>"
      ]
     },
     "metadata": {
      "needs_background": "light"
     },
     "output_type": "display_data"
    }
   ],
   "source": [
    "display_closestwords_tsnescatterplot(emb_model, 'sad')"
   ]
  },
  {
   "cell_type": "code",
   "execution_count": 9,
   "metadata": {},
   "outputs": [],
   "source": [
    "def phrase_pre_processing(phrase):\n",
    "    # Basic Text PreProcessing\n",
    "    phrase = re.sub(' +', ' ', re.sub(r'\\d+', '', phrase.lower()).translate(str.maketrans(\"\",\"\", string.punctuation+'\\n'+'\\r'+'\\t')))\n",
    "    \n",
    "    # Tokenizing\n",
    "    tokens = word_tokenize(phrase)\n",
    "    \n",
    "    # Remove Stop Words\n",
    "    stop_words = set(stopwords.words('english'))\n",
    "    tokens = [i for i in tokens if not i in stop_words]\n",
    "    \n",
    "    # Lemmatization\n",
    "    lemmatizer=WordNetLemmatizer()\n",
    "    tokens = [lemmatizer.lemmatize(i) for i in tokens]\n",
    "\n",
    "    return tokens"
   ]
  },
  {
   "cell_type": "code",
   "execution_count": 10,
   "metadata": {},
   "outputs": [],
   "source": [
    "def phrase_to_embedding(tokens):\n",
    "    words = [word for word in tokens if word in emb_model.vocab]\n",
    "    embeddings = np.zeros(300)\n",
    "    if len(words) >= 1:  \n",
    "        avg = np.mean(emb_model[words], axis=0)\n",
    "        for idx, e in enumerate(avg):\n",
    "            embeddings.flat[idx] = e\n",
    "            \n",
    "    return embeddings"
   ]
  },
  {
   "cell_type": "markdown",
   "metadata": {},
   "source": [
    "#### Below is an example of the features in a vector embedding of a sentence. "
   ]
  },
  {
   "cell_type": "code",
   "execution_count": 11,
   "metadata": {},
   "outputs": [
    {
     "data": {
      "text/plain": [
       "array([-0.00919596,  0.04130046, -0.17041016,  0.02815755,  0.08520508,\n",
       "       -0.13476562, -0.01555379, -0.15600586, -0.09468587,  0.12760417,\n",
       "       -0.01936849, -0.19108073, -0.08898926, -0.05269368, -0.05875651,\n",
       "       -0.01236979,  0.20426433,  0.12109375,  0.10009766,  0.0382487 ,\n",
       "       -0.07063802,  0.08528646,  0.12223307, -0.08333334,  0.14241536,\n",
       "        0.02026367,  0.0181071 ,  0.09338379,  0.17545573,  0.17382812,\n",
       "       -0.10347494, -0.02410889, -0.03238932,  0.05224609,  0.0970459 ,\n",
       "        0.06062825,  0.11604818, -0.01233419,  0.13423665, -0.04842122,\n",
       "       -0.01855469, -0.21647136,  0.15022786, -0.01318359, -0.03934733,\n",
       "       -0.07926432,  0.02058919, -0.02400716,  0.02001953,  0.07027181,\n",
       "       -0.0226237 ,  0.17220052, -0.01303101,  0.07519531, -0.02614339,\n",
       "        0.03597005, -0.01717122, -0.07698568,  0.0135905 , -0.16113281,\n",
       "       -0.01281738,  0.13964844, -0.08276367, -0.03173828, -0.1570638 ,\n",
       "       -0.04212443,  0.01627604, -0.01501465,  0.00146484,  0.1472168 ,\n",
       "       -0.01236979,  0.01228841, -0.01057943,  0.07373047, -0.11466471,\n",
       "       -0.07029215,  0.18098958,  0.08902995, -0.03767395,  0.06445312,\n",
       "       -0.00813802,  0.0164388 ,  0.075236  ,  0.00569661, -0.0226237 ,\n",
       "       -0.03525798, -0.1077474 ,  0.08121745,  0.04742432, -0.00138346,\n",
       "       -0.01546224,  0.09895834, -0.11360677, -0.07368978, -0.08854166,\n",
       "       -0.07077026, -0.00895182,  0.02897135,  0.12483724,  0.06119792,\n",
       "       -0.1110026 , -0.03466797, -0.02327474,  0.00260417,  0.02229818,\n",
       "       -0.12565105, -0.13444011,  0.00939941,  0.07993571, -0.02604167,\n",
       "       -0.01057943,  0.13330078,  0.04427083, -0.04589844,  0.04623413,\n",
       "        0.07104492,  0.02288818,  0.0620931 ,  0.18619792,  0.00101725,\n",
       "       -0.04839071, -0.03214518, -0.18961589,  0.12174479, -0.0476888 ,\n",
       "        0.07568359,  0.08585612, -0.05875651, -0.00097656, -0.0218099 ,\n",
       "        0.01863607, -0.08406576, -0.125     , -0.18326823, -0.16097005,\n",
       "        0.06608073,  0.11971029,  0.10839844, -0.11962891,  0.11848959,\n",
       "       -0.07584635, -0.03938802,  0.0164388 , -0.10611979, -0.09692383,\n",
       "        0.0401001 , -0.1282552 , -0.2076823 , -0.06494141, -0.05204264,\n",
       "        0.03686523,  0.09830729, -0.13834636,  0.08365885,  0.09220377,\n",
       "       -0.04793294, -0.00193278, -0.15820312, -0.0069987 , -0.00016276,\n",
       "       -0.1032308 , -0.0974528 , -0.05473836,  0.0711263 , -0.02153524,\n",
       "       -0.265625  , -0.02762858, -0.12524414,  0.01194255, -0.1159668 ,\n",
       "       -0.06005859, -0.06803385,  0.06347656, -0.02376302, -0.10611979,\n",
       "        0.09130859,  0.03633626, -0.07987467,  0.09794108,  0.06835938,\n",
       "       -0.03466797, -0.08146159,  0.14632161,  0.07161459, -0.04036458,\n",
       "       -0.03999837, -0.11067709, -0.04026286,  0.09773763,  0.03503418,\n",
       "        0.0296224 , -0.06941732,  0.08325195,  0.04777018, -0.00958761,\n",
       "       -0.06551107, -0.05006917, -0.0476888 , -0.07543945, -0.1188151 ,\n",
       "        0.04736328, -0.00899251,  0.05955251,  0.02104696,  0.22005208,\n",
       "       -0.08333334, -0.1295573 ,  0.06018066,  0.1015625 ,  0.16414388,\n",
       "       -0.05170695,  0.13818359, -0.05992635,  0.08976237, -0.00953674,\n",
       "        0.03776042,  0.18115234, -0.00024414, -0.00642904,  0.05611165,\n",
       "       -0.13053386, -0.06705729,  0.12207031,  0.03255208,  0.10221354,\n",
       "       -0.06229655,  0.01208496, -0.07051595, -0.05696614, -0.11116537,\n",
       "        0.02233887, -0.13167317, -0.0164388 , -0.03889974,  0.0674235 ,\n",
       "        0.0999349 , -0.00076803, -0.02872721,  0.03857422,  0.01688639,\n",
       "        0.08028158,  0.00227865, -0.01663717, -0.17708333,  0.02020264,\n",
       "        0.0088501 ,  0.05419922,  0.07918295,  0.01192983, -0.03886922,\n",
       "       -0.02320353,  0.01999919,  0.09741211,  0.02246094,  0.02689616,\n",
       "        0.1077741 ,  0.04703776,  0.02229818, -0.00197347, -0.14322917,\n",
       "       -0.04423014,  0.01420085, -0.0843099 ,  0.10904948,  0.07010905,\n",
       "        0.04931641,  0.02620443, -0.0606486 , -0.13570149,  0.00777181,\n",
       "        0.03149414,  0.10038248,  0.04557292, -0.00443522,  0.08187866,\n",
       "        0.07202148, -0.1328125 , -0.19677734, -0.18391927, -0.00895182,\n",
       "        0.04744466, -0.109375  , -0.00431315,  0.13883464,  0.02457682,\n",
       "        0.1315918 , -0.07714844,  0.04735311,  0.13883464, -0.11914062,\n",
       "       -0.05126953,  0.03959147, -0.16156261, -0.02276611, -0.02529907,\n",
       "       -0.08113607,  0.02327474, -0.13867188,  0.05187988,  0.00577799])"
      ]
     },
     "execution_count": 11,
     "metadata": {},
     "output_type": "execute_result"
    }
   ],
   "source": [
    "test_sentence = \"I finally got a promotion!\"\n",
    "tokens = phrase_pre_processing(test_sentence)\n",
    "phrase_to_embedding(tokens)"
   ]
  },
  {
   "cell_type": "markdown",
   "metadata": {},
   "source": [
    "#### Below goes through each datapoint from the ISEAR dataset to convert each phrase to its 300-dimensional vector of features and the sentiment to a one-hot-encoding representation.  "
   ]
  },
  {
   "cell_type": "code",
   "execution_count": 12,
   "metadata": {},
   "outputs": [],
   "source": [
    "X = []\n",
    "y = []\n",
    "\n",
    "for index, row in dataset.iterrows():\n",
    "    tokens = phrase_pre_processing(row['Sentence'])\n",
    "    embeddings = phrase_to_embedding(tokens)\n",
    "    one_hot = np.zeros(7)\n",
    "    one_hot.flat[emotion_labels[row['Sentiment']]] = 1\n",
    "    y.append(one_hot)\n",
    "    X.append(embeddings)\n",
    "\n",
    "X = np.array(X)    \n",
    "y = np.array(y)"
   ]
  },
  {
   "cell_type": "markdown",
   "metadata": {},
   "source": [
    "#### I split the data into a training set, validation set, and a test set."
   ]
  },
  {
   "cell_type": "code",
   "execution_count": 13,
   "metadata": {},
   "outputs": [
    {
     "data": {
      "text/plain": [
       "((6012, 300), (1504, 300), (6012, 7), (1504, 7))"
      ]
     },
     "execution_count": 13,
     "metadata": {},
     "output_type": "execute_result"
    }
   ],
   "source": [
    "X_train, X_test, y_train, y_test = train_test_split(X, y, test_size=0.2, random_state=1234)\n",
    "X_train.shape, X_test.shape, y_train.shape, y_test.shape"
   ]
  },
  {
   "cell_type": "code",
   "execution_count": 14,
   "metadata": {},
   "outputs": [
    {
     "data": {
      "text/plain": [
       "((4809, 300), (1203, 300), (4809, 7), (1203, 7))"
      ]
     },
     "execution_count": 14,
     "metadata": {},
     "output_type": "execute_result"
    }
   ],
   "source": [
    "train_X,valid_X,train_label,valid_label = train_test_split(X_train, y_train, test_size=0.2, random_state=1234)\n",
    "train_X.shape,valid_X.shape,train_label.shape,valid_label.shape"
   ]
  },
  {
   "cell_type": "markdown",
   "metadata": {},
   "source": [
    "## Model"
   ]
  },
  {
   "cell_type": "markdown",
   "metadata": {},
   "source": [
    "I use a multi-layered CNN from the TensorFlow library to find hyperparameters that will be able to help in classifying a phrase to its correlated sentiment. My model uses three dense layers, where the last layer has a dimension of 7 which is used to distinguish which sentiment out of the 7 total has the highest value. The validation set is used to tweak the hyperparameters on each epoch during the training phase. I use binary cross entropy as my loss function, the Adam algorithm as my optimizer and accuracy as my training metric. The activation function on each layer is the rectified linear unit or ReLU, except for the last layer which uses a sigmoid activation function. During training, I use a batch size of 64 and 20 epochs. I find that a higher epoch, such as 100, results in a worse performance. This could because of overfitting to the training data. After the model finishes training, the accuracy on the test set is 0.89 and a loss of 0.29. Lastly, the number of trainable parameters finds to be 28,487. "
   ]
  },
  {
   "cell_type": "code",
   "execution_count": 15,
   "metadata": {},
   "outputs": [],
   "source": [
    "input_dim = X_train.shape[1]  # Number of features\n",
    "batch_size = 64\n",
    "epochs = 20"
   ]
  },
  {
   "cell_type": "code",
   "execution_count": 16,
   "metadata": {},
   "outputs": [],
   "source": [
    "model = Sequential()\n",
    "model.add(layers.Dense(64, input_dim=input_dim, activation='relu'))\n",
    "model.add(layers.Dense(128, activation='relu'))\n",
    "model.add(layers.Dense(7, activation='sigmoid'))"
   ]
  },
  {
   "cell_type": "code",
   "execution_count": 17,
   "metadata": {},
   "outputs": [],
   "source": [
    "model.compile(loss=binary_crossentropy, optimizer=Adam(), metrics=['accuracy'])"
   ]
  },
  {
   "cell_type": "code",
   "execution_count": 18,
   "metadata": {},
   "outputs": [
    {
     "name": "stdout",
     "output_type": "stream",
     "text": [
      "Train on 4809 samples, validate on 1203 samples\n",
      "Epoch 1/20\n",
      "4809/4809 [==============================] - 1s 278us/sample - loss: 0.4521 - accuracy: 0.8511 - val_loss: 0.3977 - val_accuracy: 0.8571\n",
      "Epoch 2/20\n",
      "4809/4809 [==============================] - 0s 68us/sample - loss: 0.3766 - accuracy: 0.8588 - val_loss: 0.3499 - val_accuracy: 0.8640\n",
      "Epoch 3/20\n",
      "4809/4809 [==============================] - 0s 68us/sample - loss: 0.3318 - accuracy: 0.8709 - val_loss: 0.3156 - val_accuracy: 0.8755\n",
      "Epoch 4/20\n",
      "4809/4809 [==============================] - 0s 72us/sample - loss: 0.3084 - accuracy: 0.8786 - val_loss: 0.2994 - val_accuracy: 0.8791\n",
      "Epoch 5/20\n",
      "4809/4809 [==============================] - 0s 91us/sample - loss: 0.2941 - accuracy: 0.8838 - val_loss: 0.2905 - val_accuracy: 0.8833\n",
      "Epoch 6/20\n",
      "4809/4809 [==============================] - 0s 82us/sample - loss: 0.2841 - accuracy: 0.8870 - val_loss: 0.2867 - val_accuracy: 0.8878\n",
      "Epoch 7/20\n",
      "4809/4809 [==============================] - 0s 73us/sample - loss: 0.2761 - accuracy: 0.8907 - val_loss: 0.2811 - val_accuracy: 0.8884\n",
      "Epoch 8/20\n",
      "4809/4809 [==============================] - 0s 88us/sample - loss: 0.2687 - accuracy: 0.8932 - val_loss: 0.2773 - val_accuracy: 0.8907\n",
      "Epoch 9/20\n",
      "4809/4809 [==============================] - 0s 77us/sample - loss: 0.2632 - accuracy: 0.8956 - val_loss: 0.2748 - val_accuracy: 0.8915\n",
      "Epoch 10/20\n",
      "4809/4809 [==============================] - 0s 76us/sample - loss: 0.2562 - accuracy: 0.8987 - val_loss: 0.2734 - val_accuracy: 0.8930\n",
      "Epoch 11/20\n",
      "4809/4809 [==============================] - 0s 80us/sample - loss: 0.2518 - accuracy: 0.9017 - val_loss: 0.2724 - val_accuracy: 0.8941\n",
      "Epoch 12/20\n",
      "4809/4809 [==============================] - 0s 68us/sample - loss: 0.2471 - accuracy: 0.9026 - val_loss: 0.2737 - val_accuracy: 0.8932\n",
      "Epoch 13/20\n",
      "4809/4809 [==============================] - 0s 73us/sample - loss: 0.2434 - accuracy: 0.9040 - val_loss: 0.2722 - val_accuracy: 0.8930\n",
      "Epoch 14/20\n",
      "4809/4809 [==============================] - 0s 85us/sample - loss: 0.2383 - accuracy: 0.9069 - val_loss: 0.2731 - val_accuracy: 0.8922\n",
      "Epoch 15/20\n",
      "4809/4809 [==============================] - 0s 67us/sample - loss: 0.2345 - accuracy: 0.9074 - val_loss: 0.2740 - val_accuracy: 0.8928\n",
      "Epoch 16/20\n",
      "4809/4809 [==============================] - 0s 85us/sample - loss: 0.2303 - accuracy: 0.9100 - val_loss: 0.2745 - val_accuracy: 0.8918\n",
      "Epoch 17/20\n",
      "4809/4809 [==============================] - 0s 73us/sample - loss: 0.2274 - accuracy: 0.9107 - val_loss: 0.2738 - val_accuracy: 0.8915\n",
      "Epoch 18/20\n",
      "4809/4809 [==============================] - 0s 73us/sample - loss: 0.2245 - accuracy: 0.9126 - val_loss: 0.2745 - val_accuracy: 0.8930\n",
      "Epoch 19/20\n",
      "4809/4809 [==============================] - 0s 72us/sample - loss: 0.2209 - accuracy: 0.9133 - val_loss: 0.2767 - val_accuracy: 0.8926\n",
      "Epoch 20/20\n",
      "4809/4809 [==============================] - 1s 106us/sample - loss: 0.2167 - accuracy: 0.9154 - val_loss: 0.2767 - val_accuracy: 0.8932\n"
     ]
    }
   ],
   "source": [
    "model_train = model.fit(train_X, train_label, batch_size=batch_size, epochs=epochs, verbose=1, validation_data=(valid_X, valid_label))"
   ]
  },
  {
   "cell_type": "code",
   "execution_count": 19,
   "metadata": {},
   "outputs": [
    {
     "name": "stdout",
     "output_type": "stream",
     "text": [
      "Test Loss: 0.2937986603442659\n",
      "Test Accuracy: 0.8905776\n"
     ]
    }
   ],
   "source": [
    "test_eval = model.evaluate(X_test, y_test, verbose=0)\n",
    "print('Test Loss:', test_eval[0])\n",
    "print('Test Accuracy:', test_eval[1])"
   ]
  },
  {
   "cell_type": "code",
   "execution_count": 20,
   "metadata": {},
   "outputs": [
    {
     "name": "stdout",
     "output_type": "stream",
     "text": [
      "Model: \"sequential\"\n",
      "_________________________________________________________________\n",
      "Layer (type)                 Output Shape              Param #   \n",
      "=================================================================\n",
      "dense (Dense)                (None, 64)                19264     \n",
      "_________________________________________________________________\n",
      "dense_1 (Dense)              (None, 128)               8320      \n",
      "_________________________________________________________________\n",
      "dense_2 (Dense)              (None, 7)                 903       \n",
      "=================================================================\n",
      "Total params: 28,487\n",
      "Trainable params: 28,487\n",
      "Non-trainable params: 0\n",
      "_________________________________________________________________\n"
     ]
    }
   ],
   "source": [
    "model.summary()"
   ]
  },
  {
   "cell_type": "markdown",
   "metadata": {},
   "source": [
    "## Results"
   ]
  },
  {
   "cell_type": "markdown",
   "metadata": {},
   "source": [
    "The test results show that my model did learn how to classify sentiment from text pretty well. From the graphs below, you can see at around 6 epochs is where both the training accuracy and loss branch away from the validation accuracy and loss. This is most likely because the model is overfitting to the data. However, I use the validation set to combat this issue. Comparably to other models, this separation is not that bad. The results from my model beat many comparable sentiment classification models. For instance, a model using only the words of the phrase as the input to a CNN results in an accuracy score of only 0.6675 [5]. Another model uses a uniform unigram feature extraction with a naive abyes classifier, but only results in an average accuracy of around 0.77 [1]. All compared models were trained on the ISEAR dataset as well. I believe the great accuracy scores of my model come from the Word2Vec model for word embeddings. The most important part of machine learning is using the right features. Through my results and comparing them to others, leads me to say that using a powerful Word2Vec model is the best way to do text classification. "
   ]
  },
  {
   "cell_type": "code",
   "execution_count": 21,
   "metadata": {},
   "outputs": [],
   "source": [
    "accuracy = model_train.history['accuracy']\n",
    "val_accuracy = model_train.history['val_accuracy']\n",
    "loss = model_train.history['loss']\n",
    "val_loss = model_train.history['val_loss']\n",
    "epochs = range(len(accuracy))"
   ]
  },
  {
   "cell_type": "code",
   "execution_count": 22,
   "metadata": {},
   "outputs": [
    {
     "data": {
      "image/png": "[encoded data removed]",
      "text/plain": [
       "<Figure size 432x288 with 1 Axes>"
      ]
     },
     "metadata": {
      "needs_background": "light"
     },
     "output_type": "display_data"
    },
    {
     "data": {
      "image/png": "[encoded data removed]",
      "text/plain": [
       "<Figure size 432x288 with 1 Axes>"
      ]
     },
     "metadata": {
      "needs_background": "light"
     },
     "output_type": "display_data"
    }
   ],
   "source": [
    "plt.plot(epochs, accuracy, 'bo', label='Training accuracy')\n",
    "plt.plot(epochs, val_accuracy, 'b', label='Validation accuracy')\n",
    "plt.xlabel(\"Epoch\")\n",
    "plt.title('Training and validation accuracy')\n",
    "plt.legend()\n",
    "plt.figure()\n",
    "plt.plot(epochs, loss, 'bo', label='Training loss')\n",
    "plt.plot(epochs, val_loss, 'b', label='Validation loss')\n",
    "plt.xlabel(\"Epoch\")\n",
    "plt.title('Training and validation loss')\n",
    "plt.legend();"
   ]
  },
  {
   "cell_type": "markdown",
   "metadata": {},
   "source": [
    "#### Below is used to test out phrase sentiment classification. Feel free to try it out!"
   ]
  },
  {
   "cell_type": "code",
   "execution_count": 23,
   "metadata": {},
   "outputs": [
    {
     "name": "stdout",
     "output_type": "stream",
     "text": [
      "Sentiment Detector:  joy\n"
     ]
    }
   ],
   "source": [
    "test_phrase = \"I finally got a promotion!\"\n",
    "tokens = phrase_pre_processing(test_phrase)\n",
    "embeddings = phrase_to_embedding(tokens)\n",
    "idx = model.predict(embeddings.reshape(-1,300)).argmax()\n",
    "for key, val in emotion_labels.items():\n",
    "    if val == idx:\n",
    "        print(\"Sentiment Detector: \", key)"
   ]
  },
  {
   "cell_type": "markdown",
   "metadata": {},
   "source": [
    "## Problems & Future Work"
   ]
  },
  {
   "cell_type": "markdown",
   "metadata": {},
   "source": [
    "Most of the problems I encountered were during the word embeddings retrieval. At first, I did not know how to get each phrase to have the same dimensional space. Until I did some research and found that taking the average across each word leads to good results. Another problem was how to correctly tokenize the phrases so that the Word2Vec model would be able to get the word embeddings of each word. Even though I did some data preprocessing, some tokens or words were not found within the Word2Vec model. My solution was to simply skip that word and it would not add to the overall average. An issue could occur if the phase returns only one token and that token is not within the model. For future work, I would train the Word2Vec model on all the tokens within the dataset so that it could capture every token. Also, I would look into another way that I can keep the input space the same dimension without losing some of the information lost when averaging the tokens. This is because some tokens might be more important than others and their feature values should weigh more than other tokens in the same phrase. Lastly, I would try different models other than a CNN to train on the word embeddings retrieved from the ISEAR dataset, such as an LSTM or Naive Bayes. "
   ]
  },
  {
   "cell_type": "markdown",
   "metadata": {},
   "source": [
    "## References"
   ]
  },
  {
   "cell_type": "markdown",
   "metadata": {},
   "source": [
    "[1] Bincy Thomas, Vinod P, Dhanya K A, (2014) Multiclass Emotion Extraction from Sentences. International Journal of Scientific & Engineering Research, https://pdfs.semanticscholar.org/54ed/f53161d1e9811e33b40c2bb26792583dd126.pdf. "
   ]
  },
  {
   "cell_type": "markdown",
   "metadata": {},
   "source": [
    "[2] Brownlee, Jason. “Best Practices for Text Classification with Deep Learning.” Machine Learning Mastery, 7 Aug. 2019, machinelearningmastery.com/best-practices-document-classification-deep-learning/."
   ]
  },
  {
   "cell_type": "markdown",
   "metadata": {},
   "source": [
    "[3] “Google Code Archive - Long-Term Storage for Google Code Project Hosting.” Google, Google, 29 July 2013, code.google.com/archive/p/word2vec/."
   ]
  },
  {
   "cell_type": "markdown",
   "metadata": {},
   "source": [
    "[4] Scherer, K.R. and Wallbotth, G. (1994) Evidence for Universality and Cultural Var-iation of  Differential Emotion Response Patterning. Journal of Personality and So-cial Psychology, 66, 310-328. https://doi.org/10.1037/0022-3514.66.2.310  "
   ]
  },
  {
   "cell_type": "markdown",
   "metadata": {},
   "source": [
    "[5] Yuxiang Zhang and Jiamei Fu and Dongyu She and Ying Zhang and Senzhang Wang and Jufeng Yang. (2018) Text Emotion Distribution Learning via Multi-Task Convolutional Neural Network. International Joint Conferences on Artificial Intelligence Organization, https://www.ijcai.org/proceedings/2018/0639.pdf."
   ]
  }
 ],
 "metadata": {
  "kernelspec": {
   "display_name": "Python 3",
   "language": "python",
   "name": "python3"
  },
  "language_info": {
   "codemirror_mode": {
    "name": "ipython",
    "version": 3
   },
   "file_extension": ".py",
   "mimetype": "text/x-python",
   "name": "python",
   "nbconvert_exporter": "python",
   "pygments_lexer": "ipython3",
   "version": "3.7.3"
  },
  "varInspector": {
   "cols": {
    "lenName": 16,
    "lenType": 16,
    "lenVar": 40
   },
   "kernels_config": {
    "python": {
     "delete_cmd_postfix": "",
     "delete_cmd_prefix": "del ",
     "library": "var_list.py",
     "varRefreshCmd": "print(var_dic_list())"
    },
    "r": {
     "delete_cmd_postfix": ") ",
     "delete_cmd_prefix": "rm(",
     "library": "var_list.r",
     "varRefreshCmd": "cat(var_dic_list()) "
    }
   },
   "types_to_exclude": [
    "module",
    "function",
    "builtin_function_or_method",
    "instance",
    "_Feature"
   ],
   "window_display": false
  }
 },
 "nbformat": 4,
 "nbformat_minor": 4
}
